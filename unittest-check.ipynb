{
 "cells": [
  {
   "cell_type": "code",
   "execution_count": 1,
   "metadata": {},
   "outputs": [],
   "source": [
    "import unittest"
   ]
  },
  {
   "cell_type": "code",
   "execution_count": 7,
   "metadata": {},
   "outputs": [],
   "source": [
    "class TestBadCalculator(unittest.TestCase):\n",
    "    '''Testing example for the badcalculator class'''\n",
    " \n",
    "    def testAdd(self):\n",
    "        ''' Checks the addition module'''\n",
    "        # add maths is correct test will pass\n",
    "        testCalc = BadCalculator(3,3)\n",
    "        self.assertEqual(testCalc.add(),6)\n",
    " \n",
    "    def testMultiply(self):\n",
    "        ''' Checks the multiplication module'''\n",
    "        # multiply maths is incorrect test will fail\n",
    "        testCalc = BadCalculator(3,3)\n",
    "        self.assertEqual(testCalc.multiply(), 9)"
   ]
  },
  {
   "cell_type": "code",
   "execution_count": 8,
   "metadata": {},
   "outputs": [
    {
     "name": "stderr",
     "output_type": "stream",
     "text": [
      "testAdd (__main__.TestBadCalculator)\n",
      "Checks the addition module ... ok\n",
      "testMultiply (__main__.TestBadCalculator)\n",
      "Checks the multiplication module ... FAIL\n",
      "\n",
      "======================================================================\n",
      "FAIL: testMultiply (__main__.TestBadCalculator)\n",
      "Checks the multiplication module\n",
      "----------------------------------------------------------------------\n",
      "Traceback (most recent call last):\n",
      "  File \"<ipython-input-7-ab1eee675918>\", line 14, in testMultiply\n",
      "    self.assertEqual(testCalc.multiply(), 9)\n",
      "AssertionError: 10 != 9\n",
      "\n",
      "----------------------------------------------------------------------\n",
      "Ran 2 tests in 0.002s\n",
      "\n",
      "FAILED (failures=1)\n"
     ]
    }
   ],
   "source": [
    "if __name__ == '__main__':\n",
    "    unittest.main(argv=['first-arg-is-ignored'], \n",
    "                  verbosity = 2, exit=False)"
   ]
  },
  {
   "cell_type": "code",
   "execution_count": 6,
   "metadata": {},
   "outputs": [
    {
     "name": "stdout",
     "output_type": "stream",
     "text": [
      "5\n",
      "7\n"
     ]
    }
   ],
   "source": [
    "class BadCalculator:\n",
    " \n",
    "    def __init__ (self, num1, num2):\n",
    "        self.number_one = num1\n",
    "        self.number_two = num2\n",
    " \n",
    "    def add(self):\n",
    "        # maths is correct test will pass\n",
    "        answer = self.number_one + self.number_two\n",
    "        return answer\n",
    " \n",
    "    def multiply(self):\n",
    "        # note maths error - test will fail\n",
    "        answer = self.number_one * self.number_two +1\n",
    "        return answer\n",
    " \n",
    "calc = BadCalculator(2,3) \n",
    "print(calc.add())\n",
    "print(calc.multiply())"
   ]
  },
  {
   "cell_type": "code",
   "execution_count": null,
   "metadata": {},
   "outputs": [],
   "source": []
  }
 ],
 "metadata": {
  "kernelspec": {
   "display_name": "Python 3",
   "language": "python",
   "name": "python3"
  },
  "language_info": {
   "codemirror_mode": {
    "name": "ipython",
    "version": 3
   },
   "file_extension": ".py",
   "mimetype": "text/x-python",
   "name": "python",
   "nbconvert_exporter": "python",
   "pygments_lexer": "ipython3",
   "version": "3.8.3"
  }
 },
 "nbformat": 4,
 "nbformat_minor": 4
}
